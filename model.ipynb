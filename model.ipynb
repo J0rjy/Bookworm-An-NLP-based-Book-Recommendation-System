{
 "cells": [
  {
   "cell_type": "markdown",
   "id": "02a29ca2-9793-43e0-b3e1-b2e8dddfb027",
   "metadata": {},
   "source": [
    "# Text Representation"
   ]
  },
  {
   "cell_type": "code",
   "execution_count": 1,
   "id": "e6eb75ae-dfc9-4ef1-a10e-58ba267cf60e",
   "metadata": {},
   "outputs": [],
   "source": [
    "import pandas as pd"
   ]
  },
  {
   "cell_type": "code",
   "execution_count": 2,
   "id": "b9fbbbb2-85a2-457e-b446-7ad38a0f30a6",
   "metadata": {},
   "outputs": [
    {
     "data": {
      "text/html": [
       "<div>\n",
       "<style scoped>\n",
       "    .dataframe tbody tr th:only-of-type {\n",
       "        vertical-align: middle;\n",
       "    }\n",
       "\n",
       "    .dataframe tbody tr th {\n",
       "        vertical-align: top;\n",
       "    }\n",
       "\n",
       "    .dataframe thead th {\n",
       "        text-align: right;\n",
       "    }\n",
       "</style>\n",
       "<table border=\"1\" class=\"dataframe\">\n",
       "  <thead>\n",
       "    <tr style=\"text-align: right;\">\n",
       "      <th></th>\n",
       "      <th>Id</th>\n",
       "      <th>Name</th>\n",
       "      <th>Language</th>\n",
       "      <th>keywords</th>\n",
       "    </tr>\n",
       "  </thead>\n",
       "  <tbody>\n",
       "    <tr>\n",
       "      <th>0</th>\n",
       "      <td>1020396</td>\n",
       "      <td>the gospel of john</td>\n",
       "      <td>eng</td>\n",
       "      <td>francis_j._moloney michael_glazier eng gospel...</td>\n",
       "    </tr>\n",
       "    <tr>\n",
       "      <th>1</th>\n",
       "      <td>1073868</td>\n",
       "      <td>hanslick on the musically beautiful: sixteen l...</td>\n",
       "      <td>eng</td>\n",
       "      <td>geoffrey_payzant 1-877275-49-2 eng musikalisc...</td>\n",
       "    </tr>\n",
       "    <tr>\n",
       "      <th>2</th>\n",
       "      <td>1038843</td>\n",
       "      <td>never tell your name</td>\n",
       "      <td>eng</td>\n",
       "      <td>josie_levy_martin 1st_book_library eng nun me...</td>\n",
       "    </tr>\n",
       "    <tr>\n",
       "      <th>3</th>\n",
       "      <td>1021643</td>\n",
       "      <td>the reign of law</td>\n",
       "      <td>eng</td>\n",
       "      <td>james_lane_allen 1st_world_library eng nurser...</td>\n",
       "    </tr>\n",
       "    <tr>\n",
       "      <th>4</th>\n",
       "      <td>1019884</td>\n",
       "      <td>cousin phillis</td>\n",
       "      <td>eng</td>\n",
       "      <td>elizabeth_gaskell 1st_world_library eng railw...</td>\n",
       "    </tr>\n",
       "  </tbody>\n",
       "</table>\n",
       "</div>"
      ],
      "text/plain": [
       "        Id                                               Name Language  \\\n",
       "0  1020396                                 the gospel of john      eng   \n",
       "1  1073868  hanslick on the musically beautiful: sixteen l...      eng   \n",
       "2  1038843                               never tell your name      eng   \n",
       "3  1021643                                   the reign of law      eng   \n",
       "4  1019884                                     cousin phillis      eng   \n",
       "\n",
       "                                            keywords  \n",
       "0   francis_j._moloney michael_glazier eng gospel...  \n",
       "1   geoffrey_payzant 1-877275-49-2 eng musikalisc...  \n",
       "2   josie_levy_martin 1st_book_library eng nun me...  \n",
       "3   james_lane_allen 1st_world_library eng nurser...  \n",
       "4   elizabeth_gaskell 1st_world_library eng railw...  "
      ]
     },
     "execution_count": 2,
     "metadata": {},
     "output_type": "execute_result"
    }
   ],
   "source": [
    "# Fetch preprocessed data\n",
    "model_data = pd.read_csv(\"data/keywords.csv\")\n",
    "model_data.head()"
   ]
  },
  {
   "cell_type": "markdown",
   "id": "016bbc90-a579-4353-b0fd-cc6e5d0514a6",
   "metadata": {},
   "source": [
    "---\n",
    "### Vectorize the keywords summary using TF-IDF\n",
    "- Convert the keywords for each book into a numeric vector, based on the frequency of each word in the book's keywords\n",
    "- Keep token pattern such that tokens with underscore are not ignored.\n",
    "- Remove tokens occuring less than 3 times or occur in more than 60% of the documents (common tokens).\n",
    "- Remove english language stop words"
   ]
  },
  {
   "cell_type": "code",
   "execution_count": 3,
   "id": "956d3ed1-34ed-4ea6-912c-ac364476d034",
   "metadata": {},
   "outputs": [],
   "source": [
    "from sklearn.feature_extraction.text import TfidfVectorizer\n",
    "tfidf = TfidfVectorizer(analyzer = 'word',\n",
    "                        min_df=3,\n",
    "                        max_df = 0.6,\n",
    "                        stop_words=\"english\",\n",
    "                        encoding = 'utf-8', \n",
    "                        token_pattern=r\"(?u)\\S\\S+\")\n",
    "tfidf_encoding = tfidf.fit_transform(model_data[\"keywords\"])"
   ]
  },
  {
   "cell_type": "code",
   "execution_count": 4,
   "id": "1e7df3fe-83ef-43f8-8bb0-2c651db28758",
   "metadata": {},
   "outputs": [
    {
     "name": "stdout",
     "output_type": "stream",
     "text": [
      "['1609' '1611' '1692' '1773' '1775' '1776' '1781' '1783' '1787' '1789'\n",
      " '1797' '1800s' '1803' '1805' '1806' '1812' '1814' '1815' '1830' '1830s'\n",
      " '1832' '1836' '1837' '1838' '1839' '1840' '1840s' '1846' '1848' '1850'\n",
      " '1850s' '1852' '1854' '1857' '1860' '1860s' '1861' '1862' '1863' '1864'\n",
      " '1865' '1867' '1870' '1876' '1880' '1880s' '1881' '1886' '1889' '1890'\n",
      " '1890s' '1892' '1896' '1900' '1900s' '1902' '1903' '1910' '1912' '1914'\n",
      " '19141918' '1915' '1916' '1917' '1918' '1919' '1920' '1920s' '1921'\n",
      " '1923' '1925' '1927' '1929' '1930' '1930s' '1931' '1932' '1933' '1937'\n",
      " '1938' '1939' '1940' '1940s' '1941' '1942' '1943' '1944' '1945' '1946'\n",
      " '1947' '1948' '1949' '1950' '1950s' '1954' '1956' '1958' '1959' '1960s']\n"
     ]
    }
   ],
   "source": [
    "# Preview first 100 words in the vocabulary\n",
    "print(tfidf.get_feature_names_out()[1:100])"
   ]
  },
  {
   "cell_type": "code",
   "execution_count": 5,
   "id": "2f24f72e-7086-4450-b2c4-6ec0ccf18faa",
   "metadata": {},
   "outputs": [
    {
     "data": {
      "text/plain": [
       "array([0., 0., 0., ..., 0., 0., 0.])"
      ]
     },
     "execution_count": 5,
     "metadata": {},
     "output_type": "execute_result"
    }
   ],
   "source": [
    "# Lets find representation of a new book's keywords in the existing vocabulary space\n",
    "tfidf.transform([\"looking for alaska by john green\"]).toarray()[0]"
   ]
  },
  {
   "cell_type": "code",
   "execution_count": 6,
   "id": "76f78c2e-c27d-49ed-9fa5-fb5310784a45",
   "metadata": {},
   "outputs": [
    {
     "data": {
      "text/plain": [
       "(29396, 12881)"
      ]
     },
     "execution_count": 6,
     "metadata": {},
     "output_type": "execute_result"
    }
   ],
   "source": [
    "tfidf_encoding.toarray().shape"
   ]
  },
  {
   "cell_type": "markdown",
   "id": "07464c92-ef64-475c-9e07-a536dcebd671",
   "metadata": {},
   "source": [
    "---\n",
    "### Visualize the TF-IDF word embeddings"
   ]
  },
  {
   "cell_type": "code",
   "execution_count": 7,
   "id": "567e617c-6cfb-427e-ab4a-238a8bdc0604",
   "metadata": {},
   "outputs": [],
   "source": [
    "tfidf_df = pd.DataFrame(tfidf_encoding.toarray(), index=model_data[\"Name\"], columns=tfidf.get_feature_names_out())"
   ]
  },
  {
   "cell_type": "code",
   "execution_count": 8,
   "id": "e70b07ab-6104-4e6e-b0ee-f1da900faecd",
   "metadata": {},
   "outputs": [],
   "source": [
    "# Find top 50 books with maximum tf-idf total score\n",
    "tfidf_df[\"total\"]= tfidf_df.sum(axis=1)\n",
    "tfidf_df = tfidf_df.sort_values(\"total\", ascending=False)\n",
    "del tfidf_df[\"total\"]"
   ]
  },
  {
   "cell_type": "code",
   "execution_count": 9,
   "id": "a745ecc2-de07-4066-985e-f550ea90e192",
   "metadata": {},
   "outputs": [
    {
     "data": {
      "text/html": [
       "<div>\n",
       "<style scoped>\n",
       "    .dataframe tbody tr th:only-of-type {\n",
       "        vertical-align: middle;\n",
       "    }\n",
       "\n",
       "    .dataframe tbody tr th {\n",
       "        vertical-align: top;\n",
       "    }\n",
       "\n",
       "    .dataframe thead th {\n",
       "        text-align: right;\n",
       "    }\n",
       "</style>\n",
       "<table border=\"1\" class=\"dataframe\">\n",
       "  <thead>\n",
       "    <tr style=\"text-align: right;\">\n",
       "      <th></th>\n",
       "      <th>book</th>\n",
       "      <th>term</th>\n",
       "      <th>tfidf</th>\n",
       "    </tr>\n",
       "  </thead>\n",
       "  <tbody>\n",
       "    <tr>\n",
       "      <th>379135</th>\n",
       "      <td>23 ways to mess up valentine's day (willimena ...</td>\n",
       "      <td>jump_at_the_sun</td>\n",
       "      <td>0.407912</td>\n",
       "    </tr>\n",
       "    <tr>\n",
       "      <th>384966</th>\n",
       "      <td>23 ways to mess up valentine's day (willimena ...</td>\n",
       "      <td>valerie_wilson_wesley</td>\n",
       "      <td>0.395556</td>\n",
       "    </tr>\n",
       "    <tr>\n",
       "      <th>374742</th>\n",
       "      <td>23 ways to mess up valentine's day (willimena ...</td>\n",
       "      <td>celebrate</td>\n",
       "      <td>0.381878</td>\n",
       "    </tr>\n",
       "    <tr>\n",
       "      <th>384962</th>\n",
       "      <td>23 ways to mess up valentine's day (willimena ...</td>\n",
       "      <td>valentine</td>\n",
       "      <td>0.381878</td>\n",
       "    </tr>\n",
       "    <tr>\n",
       "      <th>384963</th>\n",
       "      <td>23 ways to mess up valentine's day (willimena ...</td>\n",
       "      <td>valentines</td>\n",
       "      <td>0.381878</td>\n",
       "    </tr>\n",
       "    <tr>\n",
       "      <th>...</th>\n",
       "      <td>...</td>\n",
       "      <td>...</td>\n",
       "      <td>...</td>\n",
       "    </tr>\n",
       "    <tr>\n",
       "      <th>613148</th>\n",
       "      <td>white lies (arcane society, #2)</td>\n",
       "      <td>piatkus_books</td>\n",
       "      <td>0.359916</td>\n",
       "    </tr>\n",
       "    <tr>\n",
       "      <th>613598</th>\n",
       "      <td>white lies (arcane society, #2)</td>\n",
       "      <td>psychic</td>\n",
       "      <td>0.328203</td>\n",
       "    </tr>\n",
       "    <tr>\n",
       "      <th>604232</th>\n",
       "      <td>white lies (arcane society, #2)</td>\n",
       "      <td>1839</td>\n",
       "      <td>0.000000</td>\n",
       "    </tr>\n",
       "    <tr>\n",
       "      <th>604233</th>\n",
       "      <td>white lies (arcane society, #2)</td>\n",
       "      <td>1840</td>\n",
       "      <td>0.000000</td>\n",
       "    </tr>\n",
       "    <tr>\n",
       "      <th>604234</th>\n",
       "      <td>white lies (arcane society, #2)</td>\n",
       "      <td>1840s</td>\n",
       "      <td>0.000000</td>\n",
       "    </tr>\n",
       "  </tbody>\n",
       "</table>\n",
       "<p>500 rows × 3 columns</p>\n",
       "</div>"
      ],
      "text/plain": [
       "                                                     book  \\\n",
       "379135  23 ways to mess up valentine's day (willimena ...   \n",
       "384966  23 ways to mess up valentine's day (willimena ...   \n",
       "374742  23 ways to mess up valentine's day (willimena ...   \n",
       "384962  23 ways to mess up valentine's day (willimena ...   \n",
       "384963  23 ways to mess up valentine's day (willimena ...   \n",
       "...                                                   ...   \n",
       "613148                    white lies (arcane society, #2)   \n",
       "613598                    white lies (arcane society, #2)   \n",
       "604232                    white lies (arcane society, #2)   \n",
       "604233                    white lies (arcane society, #2)   \n",
       "604234                    white lies (arcane society, #2)   \n",
       "\n",
       "                         term     tfidf  \n",
       "379135        jump_at_the_sun  0.407912  \n",
       "384966  valerie_wilson_wesley  0.395556  \n",
       "374742              celebrate  0.381878  \n",
       "384962              valentine  0.381878  \n",
       "384963             valentines  0.381878  \n",
       "...                       ...       ...  \n",
       "613148          piatkus_books  0.359916  \n",
       "613598                psychic  0.328203  \n",
       "604232                   1839  0.000000  \n",
       "604233                   1840  0.000000  \n",
       "604234                  1840s  0.000000  \n",
       "\n",
       "[500 rows x 3 columns]"
      ]
     },
     "metadata": {},
     "output_type": "display_data"
    }
   ],
   "source": [
    "# Leave first few words containing years and select top 50 books\n",
    "tfidf_df_preview = tfidf_df.iloc[100:150,25:].copy()\n",
    "tfidf_df_preview = tfidf_df_preview.stack().reset_index()\n",
    "tfidf_df_preview = tfidf_df_preview.rename(columns={0:'tfidf', 'Name': 'book','level_1': 'term'})\n",
    "tfidf_df_preview = tfidf_df_preview.sort_values(by=['book','tfidf'], ascending=[True,False]).groupby(['book']).head(10)\n",
    "display(tfidf_df_preview)"
   ]
  },
  {
   "cell_type": "code",
   "execution_count": 10,
   "id": "b2dfaa38-ed26-49d2-af0a-69faae9c2413",
   "metadata": {},
   "outputs": [
    {
     "data": {
      "text/html": [
       "<div>\n",
       "<style scoped>\n",
       "    .dataframe tbody tr th:only-of-type {\n",
       "        vertical-align: middle;\n",
       "    }\n",
       "\n",
       "    .dataframe tbody tr th {\n",
       "        vertical-align: top;\n",
       "    }\n",
       "\n",
       "    .dataframe thead th {\n",
       "        text-align: right;\n",
       "    }\n",
       "</style>\n",
       "<table border=\"1\" class=\"dataframe\">\n",
       "  <thead>\n",
       "    <tr style=\"text-align: right;\">\n",
       "      <th></th>\n",
       "      <th>book</th>\n",
       "      <th>term</th>\n",
       "      <th>tfidf</th>\n",
       "    </tr>\n",
       "  </thead>\n",
       "  <tbody>\n",
       "  </tbody>\n",
       "</table>\n",
       "</div>"
      ],
      "text/plain": [
       "Empty DataFrame\n",
       "Columns: [book, term, tfidf]\n",
       "Index: []"
      ]
     },
     "execution_count": 10,
     "metadata": {},
     "output_type": "execute_result"
    }
   ],
   "source": [
    "# Find books with term \"london\"\n",
    "tfidf_df_preview[tfidf_df_preview['term'].str.contains('london')]"
   ]
  },
  {
   "cell_type": "code",
   "execution_count": 11,
   "id": "bdfe03d8-e74c-42fb-9ac8-48b8d8dc5b29",
   "metadata": {},
   "outputs": [
    {
     "data": {
      "text/html": [
       "<div>\n",
       "<style scoped>\n",
       "    .dataframe tbody tr th:only-of-type {\n",
       "        vertical-align: middle;\n",
       "    }\n",
       "\n",
       "    .dataframe tbody tr th {\n",
       "        vertical-align: top;\n",
       "    }\n",
       "\n",
       "    .dataframe thead th {\n",
       "        text-align: right;\n",
       "    }\n",
       "</style>\n",
       "<table border=\"1\" class=\"dataframe\">\n",
       "  <thead>\n",
       "    <tr style=\"text-align: right;\">\n",
       "      <th></th>\n",
       "      <th>book</th>\n",
       "      <th>term</th>\n",
       "      <th>tfidf</th>\n",
       "    </tr>\n",
       "  </thead>\n",
       "  <tbody>\n",
       "    <tr>\n",
       "      <th>411874</th>\n",
       "      <td>the father hunt: a nero wolfe mystery</td>\n",
       "      <td>amys</td>\n",
       "      <td>0.413906</td>\n",
       "    </tr>\n",
       "    <tr>\n",
       "      <th>424062</th>\n",
       "      <td>the father hunt: a nero wolfe mystery</td>\n",
       "      <td>wolfes</td>\n",
       "      <td>0.407990</td>\n",
       "    </tr>\n",
       "    <tr>\n",
       "      <th>412245</th>\n",
       "      <td>the father hunt: a nero wolfe mystery</td>\n",
       "      <td>audiogo</td>\n",
       "      <td>0.380141</td>\n",
       "    </tr>\n",
       "    <tr>\n",
       "      <th>412062</th>\n",
       "      <td>the father hunt: a nero wolfe mystery</td>\n",
       "      <td>archie</td>\n",
       "      <td>0.374596</td>\n",
       "    </tr>\n",
       "    <tr>\n",
       "      <th>411870</th>\n",
       "      <td>the father hunt: a nero wolfe mystery</td>\n",
       "      <td>amy</td>\n",
       "      <td>0.355773</td>\n",
       "    </tr>\n",
       "  </tbody>\n",
       "</table>\n",
       "</div>"
      ],
      "text/plain": [
       "                                         book     term     tfidf\n",
       "411874  the father hunt: a nero wolfe mystery     amys  0.413906\n",
       "424062  the father hunt: a nero wolfe mystery   wolfes  0.407990\n",
       "412245  the father hunt: a nero wolfe mystery  audiogo  0.380141\n",
       "412062  the father hunt: a nero wolfe mystery   archie  0.374596\n",
       "411870  the father hunt: a nero wolfe mystery      amy  0.355773"
      ]
     },
     "execution_count": 11,
     "metadata": {},
     "output_type": "execute_result"
    }
   ],
   "source": [
    "# Find book names with word mystery\n",
    "tfidf_df_preview[tfidf_df_preview['book'].str.contains('mystery')].head(5)"
   ]
  },
  {
   "cell_type": "code",
   "execution_count": 12,
   "id": "de67c657-bcf6-475a-afd7-86460b465428",
   "metadata": {},
   "outputs": [
    {
     "data": {
      "text/html": [
       "<div>\n",
       "<style scoped>\n",
       "    .dataframe tbody tr th:only-of-type {\n",
       "        vertical-align: middle;\n",
       "    }\n",
       "\n",
       "    .dataframe tbody tr th {\n",
       "        vertical-align: top;\n",
       "    }\n",
       "\n",
       "    .dataframe thead th {\n",
       "        text-align: right;\n",
       "    }\n",
       "</style>\n",
       "<table border=\"1\" class=\"dataframe\">\n",
       "  <thead>\n",
       "    <tr style=\"text-align: right;\">\n",
       "      <th></th>\n",
       "      <th>book</th>\n",
       "      <th>term</th>\n",
       "      <th>tfidf</th>\n",
       "    </tr>\n",
       "  </thead>\n",
       "  <tbody>\n",
       "    <tr>\n",
       "      <th>379135</th>\n",
       "      <td>23 ways to mess up valentine's day (willimena ...</td>\n",
       "      <td>jump at the sun</td>\n",
       "      <td>0.407912</td>\n",
       "    </tr>\n",
       "    <tr>\n",
       "      <th>384966</th>\n",
       "      <td>23 ways to mess up valentine's day (willimena ...</td>\n",
       "      <td>valerie wilson wesley</td>\n",
       "      <td>0.395556</td>\n",
       "    </tr>\n",
       "    <tr>\n",
       "      <th>374742</th>\n",
       "      <td>23 ways to mess up valentine's day (willimena ...</td>\n",
       "      <td>celebrate</td>\n",
       "      <td>0.381878</td>\n",
       "    </tr>\n",
       "    <tr>\n",
       "      <th>384962</th>\n",
       "      <td>23 ways to mess up valentine's day (willimena ...</td>\n",
       "      <td>valentine</td>\n",
       "      <td>0.381878</td>\n",
       "    </tr>\n",
       "    <tr>\n",
       "      <th>384963</th>\n",
       "      <td>23 ways to mess up valentine's day (willimena ...</td>\n",
       "      <td>valentines</td>\n",
       "      <td>0.381878</td>\n",
       "    </tr>\n",
       "  </tbody>\n",
       "</table>\n",
       "</div>"
      ],
      "text/plain": [
       "                                                     book  \\\n",
       "379135  23 ways to mess up valentine's day (willimena ...   \n",
       "384966  23 ways to mess up valentine's day (willimena ...   \n",
       "374742  23 ways to mess up valentine's day (willimena ...   \n",
       "384962  23 ways to mess up valentine's day (willimena ...   \n",
       "384963  23 ways to mess up valentine's day (willimena ...   \n",
       "\n",
       "                         term     tfidf  \n",
       "379135        jump at the sun  0.407912  \n",
       "384966  valerie wilson wesley  0.395556  \n",
       "374742              celebrate  0.381878  \n",
       "384962              valentine  0.381878  \n",
       "384963             valentines  0.381878  "
      ]
     },
     "execution_count": 12,
     "metadata": {},
     "output_type": "execute_result"
    }
   ],
   "source": [
    "def process_word_matrix(word_vec):\n",
    "    # Remove underscores in terms\n",
    "    word_vec.term = word_vec.term.str.replace('_',' ')\n",
    "\n",
    "    # Remove terms with zero tfidf score\n",
    "    word_vec = word_vec[word_vec.tfidf > 0]\n",
    "    \n",
    "    return word_vec\n",
    "\n",
    "tfidf_vec = process_word_matrix(tfidf_df_preview.copy())    \n",
    "tfidf_vec.iloc[0:5]"
   ]
  },
  {
   "cell_type": "markdown",
   "id": "32fba63d-2d7e-4301-8e27-93abf0d1fa8b",
   "metadata": {},
   "source": [
    "- For each book, we will rank its terms based on its tf-idf score. Term with maximum score within the document will get rank 1.\n",
    "- Two or more terms may have same tf-idf score, such terms will overlap in the heatmap."
   ]
  },
  {
   "cell_type": "code",
   "execution_count": 13,
   "id": "71905a0a-3d01-4ff9-862b-5f5fa42ff5e6",
   "metadata": {},
   "outputs": [
    {
     "name": "stderr",
     "output_type": "stream",
     "text": [
      "C:\\Users\\jorjy\\AppData\\Roaming\\Python\\Python39\\site-packages\\altair\\utils\\core.py:317: FutureWarning: iteritems is deprecated and will be removed in a future version. Use .items instead.\n",
      "  for col_name, dtype in df.dtypes.iteritems():\n"
     ]
    },
    {
     "data": {
      "application/vnd.vegalite.v4+json": {
       "$schema": "https://vega.github.io/schema/vega-lite/v4.17.0.json",
       "config": {
        "view": {
         "continuousHeight": 300,
         "continuousWidth": 400
        }
       },
       "data": {
        "name": "data-5e70c368cc027048eb9735389bf34650"
       },
       "datasets": {
        "data-5e70c368cc027048eb9735389bf34650": [
         {
          "book": "23 ways to mess up valentine's day (willimena rules!, #5)",
          "term": "jump at the sun",
          "tfidf": 0.40791241208681484
         },
         {
          "book": "23 ways to mess up valentine's day (willimena rules!, #5)",
          "term": "valerie wilson wesley",
          "tfidf": 0.3955558293120345
         },
         {
          "book": "23 ways to mess up valentine's day (willimena rules!, #5)",
          "term": "celebrate",
          "tfidf": 0.38187753557976367
         },
         {
          "book": "23 ways to mess up valentine's day (willimena rules!, #5)",
          "term": "valentine",
          "tfidf": 0.38187753557976367
         },
         {
          "book": "23 ways to mess up valentine's day (willimena rules!, #5)",
          "term": "valentines",
          "tfidf": 0.38187753557976367
         },
         {
          "book": "23 ways to mess up valentine's day (willimena rules!, #5)",
          "term": "holidays",
          "tfidf": 0.3607245787726836
         },
         {
          "book": "23 ways to mess up valentine's day (willimena rules!, #5)",
          "term": "cards",
          "tfidf": 0.33095237072822775
         },
         {
          "book": "a long and winding road",
          "term": "win blevins",
          "tfidf": 0.4153219983287262
         },
         {
          "book": "a long and winding road",
          "term": "navajo",
          "tfidf": 0.4021798654769665
         },
         {
          "book": "a long and winding road",
          "term": "rescue",
          "tfidf": 0.378843902431369
         },
         {
          "book": "a long and winding road",
          "term": "forge books",
          "tfidf": 0.37448986314613175
         },
         {
          "book": "a long and winding road",
          "term": "trail",
          "tfidf": 0.36347289652572334
         },
         {
          "book": "a long and winding road",
          "term": "sam",
          "tfidf": 0.357372803854686
         },
         {
          "book": "a long and winding road",
          "term": "kidnapped",
          "tfidf": 0.3495221968012425
         },
         {
          "book": "a millionaire for molly",
          "term": "harlequin romance",
          "tfidf": 0.40682728894326287
         },
         {
          "book": "a millionaire for molly",
          "term": "businessman",
          "tfidf": 0.3945035769847333
         },
         {
          "book": "a millionaire for molly",
          "term": "attraction",
          "tfidf": 0.3894579924870278
         },
         {
          "book": "a millionaire for molly",
          "term": "marion lennox",
          "tfidf": 0.380861670066527
         },
         {
          "book": "a millionaire for molly",
          "term": "jackson",
          "tfidf": 0.362213533688743
         },
         {
          "book": "a millionaire for molly",
          "term": "millionaire",
          "tfidf": 0.35525155493952887
         },
         {
          "book": "a millionaire for molly",
          "term": "molly",
          "tfidf": 0.35316148403414005
         },
         {
          "book": "bailey goes camping",
          "term": "kevin henkes",
          "tfidf": 0.4206966320662281
         },
         {
          "book": "bailey goes camping",
          "term": "mama",
          "tfidf": 0.3817684698778052
         },
         {
          "book": "bailey goes camping",
          "term": "betty",
          "tfidf": 0.3777192636503869
         },
         {
          "book": "bailey goes camping",
          "term": "camping",
          "tfidf": 0.3740226279889498
         },
         {
          "book": "bailey goes camping",
          "term": "bailey",
          "tfidf": 0.37062205282440275
         },
         {
          "book": "bailey goes camping",
          "term": "bruce",
          "tfidf": 0.37062205282440275
         },
         {
          "book": "bailey goes camping",
          "term": "greenwillow books",
          "tfidf": 0.3463827344360461
         },
         {
          "book": "black victory: the rise and fall of the white primary in texas",
          "term": "darlene clark hine",
          "tfidf": 0.406826809409449
         },
         {
          "book": "black victory: the rise and fall of the white primary in texas",
          "term": "naacp",
          "tfidf": 0.39016874165927573
         },
         {
          "book": "black victory: the rise and fall of the white primary in texas",
          "term": "1965",
          "tfidf": 0.3838356382258412
         },
         {
          "book": "black victory: the rise and fall of the white primary in texas",
          "term": "darlene",
          "tfidf": 0.3838356382258412
         },
         {
          "book": "black victory: the rise and fall of the white primary in texas",
          "term": "mobilization",
          "tfidf": 0.3838356382258412
         },
         {
          "book": "black victory: the rise and fall of the white primary in texas",
          "term": "liberation",
          "tfidf": 0.36526634912347594
         },
         {
          "book": "black victory: the rise and fall of the white primary in texas",
          "term": "university of missouri",
          "tfidf": 0.32688132840380385
         },
         {
          "book": "bunny mail",
          "term": "viking books for young readers",
          "tfidf": 0.40426537834903636
         },
         {
          "book": "bunny mail",
          "term": "max",
          "tfidf": 0.39770346248475424
         },
         {
          "book": "bunny mail",
          "term": "grandma",
          "tfidf": 0.39201927241420487
         },
         {
          "book": "bunny mail",
          "term": "invitations",
          "tfidf": 0.38252045469233803
         },
         {
          "book": "bunny mail",
          "term": "rosemary wells",
          "tfidf": 0.3784632725794441
         },
         {
          "book": "bunny mail",
          "term": "letter",
          "tfidf": 0.34706501853456173
         },
         {
          "book": "bunny mail",
          "term": "ruby",
          "tfidf": 0.3386914167967862
         },
         {
          "book": "casting the circle: a women's book of ritual",
          "term": "empowerment",
          "tfidf": 0.40514797020570936
         },
         {
          "book": "casting the circle: a women's book of ritual",
          "term": "diane",
          "tfidf": 0.39996624705538697
         },
         {
          "book": "casting the circle: a women's book of ritual",
          "term": "diane stein",
          "tfidf": 0.38731001989628233
         },
         {
          "book": "casting the circle: a women's book of ritual",
          "term": "stein",
          "tfidf": 0.38052834593239226
         },
         {
          "book": "casting the circle: a women's book of ritual",
          "term": "crossing press",
          "tfidf": 0.3774930874386809
         },
         {
          "book": "casting the circle: a women's book of ritual",
          "term": "sacred",
          "tfidf": 0.3550199278219746
         },
         {
          "book": "casting the circle: a women's book of ritual",
          "term": "ritual",
          "tfidf": 0.335456509356748
         },
         {
          "book": "conrad's fate",
          "term": "alfred",
          "tfidf": 0.40262623443653794
         },
         {
          "book": "conrad's fate",
          "term": "mage",
          "tfidf": 0.39687168548283197
         },
         {
          "book": "conrad's fate",
          "term": "narrator",
          "tfidf": 0.38725529143119386
         },
         {
          "book": "conrad's fate",
          "term": "conrad",
          "tfidf": 0.3831478895334787
         },
         {
          "book": "conrad's fate",
          "term": "christopher",
          "tfidf": 0.3697817313359358
         },
         {
          "book": "conrad's fate",
          "term": "diana wynne jones",
          "tfidf": 0.3595945328896318
         },
         {
          "book": "conrad's fate",
          "term": "collins",
          "tfidf": 0.3428837378706341
         },
         {
          "book": "diane stein's essential reiki workshop",
          "term": "dvd",
          "tfidf": 0.4148769908818717
         },
         {
          "book": "diane stein's essential reiki workshop",
          "term": "reiki",
          "tfidf": 0.40706219825978107
         },
         {
          "book": "diane stein's essential reiki workshop",
          "term": "diane stein",
          "tfidf": 0.37735204457354204
         },
         {
          "book": "diane stein's essential reiki workshop",
          "term": "instructors",
          "tfidf": 0.3739211986967366
         },
         {
          "book": "diane stein's essential reiki workshop",
          "term": "crossing press",
          "tfidf": 0.3677875113985204
         },
         {
          "book": "diane stein's essential reiki workshop",
          "term": "workshop",
          "tfidf": 0.36242268222903257
         },
         {
          "book": "diane stein's essential reiki workshop",
          "term": "practitioners",
          "tfidf": 0.336671897655979
         },
         {
          "book": "double",
          "term": "seaside",
          "tfidf": 0.4118436522060297
         },
         {
          "book": "double",
          "term": "mccone",
          "tfidf": 0.39326062709079707
         },
         {
          "book": "double",
          "term": "sharon",
          "tfidf": 0.38007576094407175
         },
         {
          "book": "double",
          "term": "marcia muller",
          "tfidf": 0.3778396404296156
         },
         {
          "book": "double",
          "term": "hotel",
          "tfidf": 0.36805124485516005
         },
         {
          "book": "double",
          "term": "mysterious press",
          "tfidf": 0.36805124485516005
         },
         {
          "book": "double",
          "term": "detectives",
          "tfidf": 0.3429097107136064
         },
         {
          "book": "draco (the inquisition war #1)",
          "term": "ian watson",
          "tfidf": 0.40144403607967055
         },
         {
          "book": "draco (the inquisition war #1)",
          "term": "spielberg",
          "tfidf": 0.40144403607967055
         },
         {
          "book": "draco (the inquisition war #1)",
          "term": "steven",
          "tfidf": 0.40144403607967055
         },
         {
          "book": "draco (the inquisition war #1)",
          "term": "warhammer",
          "tfidf": 0.38500637318172776
         },
         {
          "book": "draco (the inquisition war #1)",
          "term": "watson",
          "tfidf": 0.36043346712835506
         },
         {
          "book": "draco (the inquisition war #1)",
          "term": "games workshop(uk)",
          "tfidf": 0.34524329542474647
         },
         {
          "book": "draco (the inquisition war #1)",
          "term": "inquisition",
          "tfidf": 0.34524329542474647
         },
         {
          "book": "dream tales and prose poems",
          "term": "ivan turgenev",
          "tfidf": 0.4050682746441842
         },
         {
          "book": "dream tales and prose poems",
          "term": "artifact",
          "tfidf": 0.39849332640508434
         },
         {
          "book": "dream tales and prose poems",
          "term": "scanning",
          "tfidf": 0.39279784717797345
         },
         {
          "book": "dream tales and prose poems",
          "term": "university press of the pacific",
          "tfidf": 0.38328016421073663
         },
         {
          "book": "dream tales and prose poems",
          "term": "preservation",
          "tfidf": 0.363233223529432
         },
         {
          "book": "dream tales and prose poems",
          "term": "imperfections",
          "tfidf": 0.3559033399023536
         },
         {
          "book": "dream tales and prose poems",
          "term": "printed",
          "tfidf": 0.3425249868741001
         },
         {
          "book": "easy wood furniture projects: 32 step-by-step projects for the home",
          "term": "black & decker",
          "tfidf": 0.411426095354732
         },
         {
          "book": "easy wood furniture projects: 32 step-by-step projects for the home",
          "term": "workshop",
          "tfidf": 0.39514864477809836
         },
         {
          "book": "easy wood furniture projects: 32 step-by-step projects for the home",
          "term": "creative publishing international",
          "tfidf": 0.3875536318593103
         },
         {
          "book": "easy wood furniture projects: 32 step-by-step projects for the home",
          "term": "furniture",
          "tfidf": 0.3810221234302644
         },
         {
          "book": "easy wood furniture projects: 32 step-by-step projects for the home",
          "term": "tools",
          "tfidf": 0.3790331808355262
         },
         {
          "book": "easy wood furniture projects: 32 step-by-step projects for the home",
          "term": "projects",
          "tfidf": 0.35288060185865405
         },
         {
          "book": "easy wood furniture projects: 32 step-by-step projects for the home",
          "term": "building",
          "tfidf": 0.3331959920799157
         },
         {
          "book": "faith in a long shot (thoroughbred, #57)",
          "term": "fever",
          "tfidf": 0.39851840609006495
         },
         {
          "book": "faith in a long shot (thoroughbred, #57)",
          "term": "joanna campbell",
          "tfidf": 0.39851840609006495
         },
         {
          "book": "faith in a long shot (thoroughbred, #57)",
          "term": "victory",
          "tfidf": 0.3920497733770429
         },
         {
          "book": "faith in a long shot (thoroughbred, #57)",
          "term": "harperentertainment",
          "tfidf": 0.3815038534118891
         },
         {
          "book": "faith in a long shot (thoroughbred, #57)",
          "term": "derby",
          "tfidf": 0.37708260480624667
         },
         {
          "book": "faith in a long shot (thoroughbred, #57)",
          "term": "thoroughbred",
          "tfidf": 0.36607300001070375
         },
         {
          "book": "faith in a long shot (thoroughbred, #57)",
          "term": "crown",
          "tfidf": 0.3269819763495487
         },
         {
          "book": "grudge match (disney's kim possible, #11)",
          "term": "marc cerasini",
          "tfidf": 0.3969262205757848
         },
         {
          "book": "grudge match (disney's kim possible, #11)",
          "term": "ron",
          "tfidf": 0.3969262205757848
         },
         {
          "book": "grudge match (disney's kim possible, #11)",
          "term": "rumble",
          "tfidf": 0.3969262205757848
         },
         {
          "book": "grudge match (disney's kim possible, #11)",
          "term": "wrestlers",
          "tfidf": 0.3969262205757848
         },
         {
          "book": "grudge match (disney's kim possible, #11)",
          "term": "wrestling",
          "tfidf": 0.3691420893185805
         },
         {
          "book": "grudge match (disney's kim possible, #11)",
          "term": "kim",
          "tfidf": 0.34671043419298203
         },
         {
          "book": "grudge match (disney's kim possible, #11)",
          "term": "disney press",
          "tfidf": 0.3366367395174223
         },
         {
          "book": "kitty's class day",
          "term": "font",
          "tfidf": 0.40497370461964577
         },
         {
          "book": "kitty's class day",
          "term": "tiresias",
          "tfidf": 0.40497370461964577
         },
         {
          "book": "kitty's class day",
          "term": "louisa may alcott",
          "tfidf": 0.3853817932622292
         },
         {
          "book": "kitty's class day",
          "term": "blind",
          "tfidf": 0.3719377050761565
         },
         {
          "book": "kitty's class day",
          "term": "print",
          "tfidf": 0.36914019489530187
         },
         {
          "book": "kitty's class day",
          "term": "echo library",
          "tfidf": 0.35735285728399346
         },
         {
          "book": "kitty's class day",
          "term": "printed",
          "tfidf": 0.3480951967516564
         },
         {
          "book": "life of johnson (yale editions of the private papers of james boswell)",
          "term": "boswells",
          "tfidf": 0.4068621535260812
         },
         {
          "book": "life of johnson (yale editions of the private papers of james boswell)",
          "term": "james boswell",
          "tfidf": 0.4068621535260812
         },
         {
          "book": "life of johnson (yale editions of the private papers of james boswell)",
          "term": "samuel",
          "tfidf": 0.39271866259386645
         },
         {
          "book": "life of johnson (yale editions of the private papers of james boswell)",
          "term": "boswell",
          "tfidf": 0.37371962848826057
         },
         {
          "book": "life of johnson (yale editions of the private papers of james boswell)",
          "term": "edinburgh university press",
          "tfidf": 0.3700621361679128
         },
         {
          "book": "life of johnson (yale editions of the private papers of james boswell)",
          "term": "johnson",
          "tfidf": 0.35074585795462215
         },
         {
          "book": "life of johnson (yale editions of the private papers of james boswell)",
          "term": "manuscript",
          "tfidf": 0.3392100026411922
         },
         {
          "book": "martin bridge: sound the alarm!",
          "term": "jessica scott kerrin",
          "tfidf": 0.4233122275904984
         },
         {
          "book": "martin bridge: sound the alarm!",
          "term": "rocket",
          "tfidf": 0.38882969836003173
         },
         {
          "book": "martin bridge: sound the alarm!",
          "term": "stuart",
          "tfidf": 0.3850243278970788
         },
         {
          "book": "martin bridge: sound the alarm!",
          "term": "kids can press",
          "tfidf": 0.36979142327846753
         },
         {
          "book": "martin bridge: sound the alarm!",
          "term": "toy",
          "tfidf": 0.3626837925825957
         },
         {
          "book": "martin bridge: sound the alarm!",
          "term": "bridge",
          "tfidf": 0.3585154808560805
         },
         {
          "book": "martin bridge: sound the alarm!",
          "term": "martin",
          "tfidf": 0.35292479429354745
         },
         {
          "book": "on picket duty and other tales",
          "term": "font",
          "tfidf": 0.40497370461964577
         },
         {
          "book": "on picket duty and other tales",
          "term": "tiresias",
          "tfidf": 0.40497370461964577
         },
         {
          "book": "on picket duty and other tales",
          "term": "louisa may alcott",
          "tfidf": 0.3853817932622292
         },
         {
          "book": "on picket duty and other tales",
          "term": "blind",
          "tfidf": 0.3719377050761565
         },
         {
          "book": "on picket duty and other tales",
          "term": "print",
          "tfidf": 0.36914019489530187
         },
         {
          "book": "on picket duty and other tales",
          "term": "echo library",
          "tfidf": 0.35735285728399346
         },
         {
          "book": "on picket duty and other tales",
          "term": "printed",
          "tfidf": 0.3480951967516564
         },
         {
          "book": "ouran high school host club, vol. 1 (ouran high school host club, #1)",
          "term": "bisco hatori",
          "tfidf": 0.40508766552430014
         },
         {
          "book": "ouran high school host club, vol. 1 (ouran high school host club, #1)",
          "term": "haruhi",
          "tfidf": 0.40508766552430014
         },
         {
          "book": "ouran high school host club, vol. 1 (ouran high school host club, #1)",
          "term": "scholarship",
          "tfidf": 0.3832985120799237
         },
         {
          "book": "ouran high school host club, vol. 1 (ouran high school host club, #1)",
          "term": "wealthy",
          "tfidf": 0.3832985120799237
         },
         {
          "book": "ouran high school host club, vol. 1 (ouran high school host club, #1)",
          "term": "club",
          "tfidf": 0.36600348801324406
         },
         {
          "book": "ouran high school host club, vol. 1 (ouran high school host club, #1)",
          "term": "viz media",
          "tfidf": 0.35592037722526654
         },
         {
          "book": "ouran high school host club, vol. 1 (ouran high school host club, #1)",
          "term": "student",
          "tfidf": 0.3425413837666067
         },
         {
          "book": "ouran high school host club, vol. 4 (ouran high school host club, #4)",
          "term": "bisco hatori",
          "tfidf": 0.40508766552430014
         },
         {
          "book": "ouran high school host club, vol. 4 (ouran high school host club, #4)",
          "term": "haruhi",
          "tfidf": 0.40508766552430014
         },
         {
          "book": "ouran high school host club, vol. 4 (ouran high school host club, #4)",
          "term": "scholarship",
          "tfidf": 0.3832985120799237
         },
         {
          "book": "ouran high school host club, vol. 4 (ouran high school host club, #4)",
          "term": "wealthy",
          "tfidf": 0.3832985120799237
         },
         {
          "book": "ouran high school host club, vol. 4 (ouran high school host club, #4)",
          "term": "club",
          "tfidf": 0.36600348801324406
         },
         {
          "book": "ouran high school host club, vol. 4 (ouran high school host club, #4)",
          "term": "viz media",
          "tfidf": 0.35592037722526654
         },
         {
          "book": "ouran high school host club, vol. 4 (ouran high school host club, #4)",
          "term": "student",
          "tfidf": 0.3425413837666067
         },
         {
          "book": "pink floyd - dark side of the moon",
          "term": "clouds",
          "tfidf": 0.40947397882417363
         },
         {
          "book": "pink floyd - dark side of the moon",
          "term": "pianovocalguitar",
          "tfidf": 0.39291180551366156
         },
         {
          "book": "pink floyd - dark side of the moon",
          "term": "hal leonard publishing company",
          "tfidf": 0.38355981366701486
         },
         {
          "book": "pink floyd - dark side of the moon",
          "term": "album",
          "tfidf": 0.3808293055596584
         },
         {
          "book": "pink floyd - dark side of the moon",
          "term": "sky",
          "tfidf": 0.371312030628633
         },
         {
          "book": "pink floyd - dark side of the moon",
          "term": "songbook",
          "tfidf": 0.36921678820006926
         },
         {
          "book": "pink floyd - dark side of the moon",
          "term": "hal leonard publishing corporation",
          "tfidf": 0.3340787666737207
         },
         {
          "book": "raggedy ann's book of thanks: little blessings for every day",
          "term": "smile",
          "tfidf": 0.40312638615334584
         },
         {
          "book": "raggedy ann's book of thanks: little blessings for every day",
          "term": "timeless",
          "tfidf": 0.40312638615334584
         },
         {
          "book": "raggedy ann's book of thanks: little blessings for every day",
          "term": "johnny gruelle",
          "tfidf": 0.3940421767262459
         },
         {
          "book": "raggedy ann's book of thanks: little blessings for every day",
          "term": "raggedy",
          "tfidf": 0.37490825430536806
         },
         {
          "book": "raggedy ann's book of thanks: little blessings for every day",
          "term": "heartfelt",
          "tfidf": 0.3619439523155309
         },
         {
          "book": "raggedy ann's book of thanks: little blessings for every day",
          "term": "simon & schuster children's publishing",
          "tfidf": 0.35514315398730234
         },
         {
          "book": "raggedy ann's book of thanks: little blessings for every day",
          "term": "ann",
          "tfidf": 0.3493174959067958
         },
         {
          "book": "s is for silence (kinsey millhone #19)",
          "term": "violets",
          "tfidf": 0.4084359979274061
         },
         {
          "book": "s is for silence (kinsey millhone #19)",
          "term": "serena",
          "tfidf": 0.39423779644070517
         },
         {
          "book": "s is for silence (kinsey millhone #19)",
          "term": "sue grafton",
          "tfidf": 0.3886031395182766
         },
         {
          "book": "s is for silence (kinsey millhone #19)",
          "term": "daisy",
          "tfidf": 0.3751652693272131
         },
         {
          "book": "s is for silence (kinsey millhone #19)",
          "term": "violet",
          "tfidf": 0.3751652693272131
         },
         {
          "book": "s is for silence (kinsey millhone #19)",
          "term": "g.p. putnam's sons",
          "tfidf": 0.354384118308348
         },
         {
          "book": "s is for silence (kinsey millhone #19)",
          "term": "independence",
          "tfidf": 0.34591636775852924
         },
         {
          "book": "secrets of the sphinx",
          "term": "james cross giblin",
          "tfidf": 0.41367585877361024
         },
         {
          "book": "secrets of the sphinx",
          "term": "sculptors",
          "tfidf": 0.39029762443994853
         },
         {
          "book": "secrets of the sphinx",
          "term": "sphinx",
          "tfidf": 0.39029762443994853
         },
         {
          "book": "secrets of the sphinx",
          "term": "pyramids",
          "tfidf": 0.3847192825579348
         },
         {
          "book": "secrets of the sphinx",
          "term": "monument",
          "tfidf": 0.36443694647509606
         },
         {
          "book": "secrets of the sphinx",
          "term": "scholastic press",
          "tfidf": 0.3532300819135544
         },
         {
          "book": "secrets of the sphinx",
          "term": "sculptures",
          "tfidf": 0.34440253698882883
         },
         {
          "book": "shakespeare: the complete works",
          "term": "heinle & heinle publishers",
          "tfidf": 0.40337010400406204
         },
         {
          "book": "shakespeare: the complete works",
          "term": "midsummer",
          "tfidf": 0.40337010400406204
         },
         {
          "book": "shakespeare: the complete works",
          "term": "tempest",
          "tfidf": 0.39682271996773705
         },
         {
          "book": "shakespeare: the complete works",
          "term": "juliet",
          "tfidf": 0.37392942433980403
         },
         {
          "book": "shakespeare: the complete works",
          "term": "sonnets",
          "tfidf": 0.3617104382748809
         },
         {
          "book": "shakespeare: the complete works",
          "term": "hamlet",
          "tfidf": 0.35913547278310376
         },
         {
          "book": "shakespeare: the complete works",
          "term": "william shakespeare",
          "tfidf": 0.34275487444187347
         },
         {
          "book": "she loves me not",
          "term": "wendy corsi staub",
          "tfidf": 0.4141053462118943
         },
         {
          "book": "she loves me not",
          "term": "loves",
          "tfidf": 0.38767520770646974
         },
         {
          "book": "she loves me not",
          "term": "valentine",
          "tfidf": 0.38767520770646974
         },
         {
          "book": "she loves me not",
          "term": "pinnacle",
          "tfidf": 0.38388113592942313
         },
         {
          "book": "she loves me not",
          "term": "roses",
          "tfidf": 0.37715950062172243
         },
         {
          "book": "she loves me not",
          "term": "rose",
          "tfidf": 0.35745099742399866
         },
         {
          "book": "she loves me not",
          "term": "heart",
          "tfidf": 0.33248668831566075
         },
         {
          "book": "sophie's lucky (sophie, #6)",
          "term": "dick king-smith",
          "tfidf": 0.4121336590470931
         },
         {
          "book": "sophie's lucky (sophie, #6)",
          "term": "fortune",
          "tfidf": 0.3904060416314404
         },
         {
          "book": "sophie's lucky (sophie, #6)",
          "term": "lady",
          "tfidf": 0.3904060416314404
         },
         {
          "book": "sophie's lucky (sophie, #6)",
          "term": "aunt",
          "tfidf": 0.3711274922738238
         },
         {
          "book": "sophie's lucky (sophie, #6)",
          "term": "sophie",
          "tfidf": 0.3668621374117786
         },
         {
          "book": "sophie's lucky (sophie, #6)",
          "term": "pony",
          "tfidf": 0.36114129317645394
         },
         {
          "book": "sophie's lucky (sophie, #6)",
          "term": "candlewick",
          "tfidf": 0.3500937236952943
         },
         {
          "book": "stand into danger (richard bolitho, #4)",
          "term": "bolitho",
          "tfidf": 0.4074491663878143
         },
         {
          "book": "stand into danger (richard bolitho, #4)",
          "term": "treason",
          "tfidf": 0.3997742873047488
         },
         {
          "book": "stand into danger (richard bolitho, #4)",
          "term": "frigate",
          "tfidf": 0.39328526949988446
         },
         {
          "book": "stand into danger (richard bolitho, #4)",
          "term": "lieutenant",
          "tfidf": 0.378270933757992
         },
         {
          "book": "stand into danger (richard bolitho, #4)",
          "term": "alexander kent",
          "tfidf": 0.367226633561603
         },
         {
          "book": "stand into danger (richard bolitho, #4)",
          "term": "officer",
          "tfidf": 0.3535278827491619
         },
         {
          "book": "stand into danger (richard bolitho, #4)",
          "term": "mcbooks press",
          "tfidf": 0.3414178220451041
         },
         {
          "book": "stranger in paradise (club paradise, #1)",
          "term": "carla",
          "tfidf": 0.42034110017473914
         },
         {
          "book": "stranger in paradise (club paradise, #1)",
          "term": "housekeeper",
          "tfidf": 0.39658619030620823
         },
         {
          "book": "stranger in paradise (club paradise, #1)",
          "term": "troll communications",
          "tfidf": 0.3859182432590045
         },
         {
          "book": "stranger in paradise (club paradise, #1)",
          "term": "club",
          "tfidf": 0.3642344078263675
         },
         {
          "book": "stranger in paradise (club paradise, #1)",
          "term": "marilyn kaye",
          "tfidf": 0.3642344078263675
         },
         {
          "book": "stranger in paradise (club paradise, #1)",
          "term": "danny",
          "tfidf": 0.36149483759671525
         },
         {
          "book": "stranger in paradise (club paradise, #1)",
          "term": "paradise",
          "tfidf": 0.3479769207632268
         },
         {
          "book": "the 158-pound marriage",
          "term": "delicate",
          "tfidf": 0.4051424366611831
         },
         {
          "book": "the 158-pound marriage",
          "term": "spouses",
          "tfidf": 0.3960127967545664
         },
         {
          "book": "the 158-pound marriage",
          "term": "john irving",
          "tfidf": 0.38855333780565543
         },
         {
          "book": "the 158-pound marriage",
          "term": "black swan",
          "tfidf": 0.3822464551290356
         },
         {
          "book": "the 158-pound marriage",
          "term": "housewife",
          "tfidf": 0.3719642389501278
         },
         {
          "book": "the 158-pound marriage",
          "term": "obsession",
          "tfidf": 0.36375404789334004
         },
         {
          "book": "the 158-pound marriage",
          "term": "wife",
          "tfidf": 0.3335761076991249
         },
         {
          "book": "the anastasia syndrome and other stories",
          "term": "bombings",
          "tfidf": 0.4259129024072847
         },
         {
          "book": "the anastasia syndrome and other stories",
          "term": "mary higgins clark",
          "tfidf": 0.4019818614530013
         },
         {
          "book": "the anastasia syndrome and other stories",
          "term": "novella",
          "tfidf": 0.37109767434536944
         },
         {
          "book": "the anastasia syndrome and other stories",
          "term": "demons",
          "tfidf": 0.3664859765282768
         },
         {
          "book": "the anastasia syndrome and other stories",
          "term": "haunting",
          "tfidf": 0.36228784679509207
         },
         {
          "book": "the anastasia syndrome and other stories",
          "term": "suspense",
          "tfidf": 0.35968452323037914
         },
         {
          "book": "the anastasia syndrome and other stories",
          "term": "arrow",
          "tfidf": 0.3526441372580396
         },
         {
          "book": "the black mountain",
          "term": "audio partners",
          "tfidf": 0.4066148492274378
         },
         {
          "book": "the black mountain",
          "term": "wolfes",
          "tfidf": 0.40080329286311484
         },
         {
          "book": "the black mountain",
          "term": "nero",
          "tfidf": 0.3869435421973793
         },
         {
          "book": "the black mountain",
          "term": "rex",
          "tfidf": 0.38315663103159464
         },
         {
          "book": "the black mountain",
          "term": "archie",
          "tfidf": 0.36799761901183237
         },
         {
          "book": "the black mountain",
          "term": "wolfe",
          "tfidf": 0.3495058427976357
         },
         {
          "book": "the black mountain",
          "term": "rex stout",
          "tfidf": 0.34628051391614884
         },
         {
          "book": "the commissariat of enlightenment: a novel",
          "term": "ken kalfus",
          "tfidf": 0.4120745774366779
         },
         {
          "book": "the commissariat of enlightenment: a novel",
          "term": "nikolai",
          "tfidf": 0.40278872592807796
         },
         {
          "book": "the commissariat of enlightenment: a novel",
          "term": "lenin",
          "tfidf": 0.38323008807376946
         },
         {
          "book": "the commissariat of enlightenment: a novel",
          "term": "bolshevik",
          "tfidf": 0.3739442365651695
         },
         {
          "book": "the commissariat of enlightenment: a novel",
          "term": "stalin",
          "tfidf": 0.35994234761238714
         },
         {
          "book": "the commissariat of enlightenment: a novel",
          "term": "tolstoy",
          "tfidf": 0.35994234761238714
         },
         {
          "book": "the commissariat of enlightenment: a novel",
          "term": "ecco",
          "tfidf": 0.349484198814266
         },
         {
          "book": "the death of friends",
          "term": "chandler",
          "tfidf": 0.4015381129374217
         },
         {
          "book": "the death of friends",
          "term": "chris",
          "tfidf": 0.3957991159967211
         },
         {
          "book": "the death of friends",
          "term": "rios",
          "tfidf": 0.39073696193682045
         },
         {
          "book": "the death of friends",
          "term": "judge",
          "tfidf": 0.38211240942740504
         },
         {
          "book": "the death of friends",
          "term": "michael nava",
          "tfidf": 0.38211240942740504
         },
         {
          "book": "the death of friends",
          "term": "putnam adult",
          "tfidf": 0.3485822597971365
         },
         {
          "book": "the death of friends",
          "term": "court",
          "tfidf": 0.34044889703028897
         },
         {
          "book": "the enemy",
          "term": "pearl s. buck",
          "tfidf": 0.40714762753228206
         },
         {
          "book": "the enemy",
          "term": "creative education",
          "tfidf": 0.39947842835838304
         },
         {
          "book": "the enemy",
          "term": "wounded",
          "tfidf": 0.3873773298860498
         },
         {
          "book": "the enemy",
          "term": "surgeon",
          "tfidf": 0.37799098869034653
         },
         {
          "book": "the enemy",
          "term": "patient",
          "tfidf": 0.3703217895164475
         },
         {
          "book": "the enemy",
          "term": "sailor",
          "tfidf": 0.3703217895164475
         },
         {
          "book": "the enemy",
          "term": "wartime",
          "tfidf": 0.3277696688973385
         },
         {
          "book": "the father hunt: a nero wolfe mystery",
          "term": "amys",
          "tfidf": 0.41390561023035477
         },
         {
          "book": "the father hunt: a nero wolfe mystery",
          "term": "wolfes",
          "tfidf": 0.4079898504199753
         },
         {
          "book": "the father hunt: a nero wolfe mystery",
          "term": "audiogo",
          "tfidf": 0.3801409845407432
         },
         {
          "book": "the father hunt: a nero wolfe mystery",
          "term": "archie",
          "tfidf": 0.37459595818944824
         },
         {
          "book": "the father hunt: a nero wolfe mystery",
          "term": "amy",
          "tfidf": 0.3557726172988673
         },
         {
          "book": "the father hunt: a nero wolfe mystery",
          "term": "wolfe",
          "tfidf": 0.3557726172988673
         },
         {
          "book": "the father hunt: a nero wolfe mystery",
          "term": "rex stout",
          "tfidf": 0.3524894570271216
         },
         {
          "book": "the great shadow and other napoleonic tales",
          "term": "font",
          "tfidf": 0.40279842084244655
         },
         {
          "book": "the great shadow and other napoleonic tales",
          "term": "tiresias",
          "tfidf": 0.40279842084244655
         },
         {
          "book": "the great shadow and other napoleonic tales",
          "term": "arthur conan doyle",
          "tfidf": 0.3970414109087616
         },
         {
          "book": "the great shadow and other napoleonic tales",
          "term": "blind",
          "tfidf": 0.3699398715211587
         },
         {
          "book": "the great shadow and other napoleonic tales",
          "term": "print",
          "tfidf": 0.3671573879418921
         },
         {
          "book": "the great shadow and other napoleonic tales",
          "term": "echo library",
          "tfidf": 0.35543336506926865
         },
         {
          "book": "the great shadow and other napoleonic tales",
          "term": "printed",
          "tfidf": 0.3462254313180561
         },
         {
          "book": "the northern devil (devil, #4)",
          "term": "diane whiteside",
          "tfidf": 0.4077191865082953
         },
         {
          "book": "the northern devil (devil, #4)",
          "term": "marrying",
          "tfidf": 0.3935459030822162
         },
         {
          "book": "the northern devil (devil, #4)",
          "term": "brava",
          "tfidf": 0.38792113506880954
         },
         {
          "book": "the northern devil (devil, #4)",
          "term": "diane",
          "tfidf": 0.38295973806350114
         },
         {
          "book": "the northern devil (devil, #4)",
          "term": "lucas",
          "tfidf": 0.37450684854532273
         },
         {
          "book": "the northern devil (devil, #4)",
          "term": "devil",
          "tfidf": 0.3514846850144431
         },
         {
          "book": "the northern devil (devil, #4)",
          "term": "rachel",
          "tfidf": 0.3434368292749429
         },
         {
          "book": "the painted veil",
          "term": "kittys",
          "tfidf": 0.4052812984596772
         },
         {
          "book": "the painted veil",
          "term": "veil",
          "tfidf": 0.3976472542232356
         },
         {
          "book": "the painted veil",
          "term": "w. somerset maugham",
          "tfidf": 0.3976472542232356
         },
         {
          "book": "the painted veil",
          "term": "blackstone audiobooks",
          "tfidf": 0.37226754806497686
         },
         {
          "book": "the painted veil",
          "term": "hong",
          "tfidf": 0.37226754806497686
         },
         {
          "book": "the painted veil",
          "term": "kitty",
          "tfidf": 0.3686242668606418
         },
         {
          "book": "the painted veil",
          "term": "affair",
          "tfidf": 0.3262672014363617
         },
         {
          "book": "the penelopiad",
          "term": "canongate books",
          "tfidf": 0.40853171557841084
         },
         {
          "book": "the penelopiad",
          "term": "ithaca",
          "tfidf": 0.39932570032017123
         },
         {
          "book": "the penelopiad",
          "term": "maids",
          "tfidf": 0.3750759607520348
         },
         {
          "book": "the penelopiad",
          "term": "odysseus",
          "tfidf": 0.3750759607520348
         },
         {
          "book": "the penelopiad",
          "term": "penelope",
          "tfidf": 0.3750759607520348
         },
         {
          "book": "the penelopiad",
          "term": "margaret atwood",
          "tfidf": 0.36679708612883394
         },
         {
          "book": "the penelopiad",
          "term": "odyssey",
          "tfidf": 0.34213270968379544
         },
         {
          "book": "the queen's necklace",
          "term": "antoinette",
          "tfidf": 0.4146904748935005
         },
         {
          "book": "the queen's necklace",
          "term": "necklace",
          "tfidf": 0.3977104188442076
         },
         {
          "book": "the queen's necklace",
          "term": "alexandre dumas",
          "tfidf": 0.39125490114080713
         },
         {
          "book": "the queen's necklace",
          "term": "queens",
          "tfidf": 0.37232668122464024
         },
         {
          "book": "the queen's necklace",
          "term": "monarchy",
          "tfidf": 0.3686828213001608
         },
         {
          "book": "the queen's necklace",
          "term": "scandal",
          "tfidf": 0.3593380221236488
         },
         {
          "book": "the queen's necklace",
          "term": "wildside press",
          "tfidf": 0.33630319756334176
         },
         {
          "book": "the saints' guide to happiness",
          "term": "robert ellsberg",
          "tfidf": 0.41499546638628604
         },
         {
          "book": "the saints' guide to happiness",
          "term": "north point press",
          "tfidf": 0.3948440929347894
         },
         {
          "book": "the saints' guide to happiness",
          "term": "augustine",
          "tfidf": 0.38119041099814005
         },
         {
          "book": "the saints' guide to happiness",
          "term": "holiness",
          "tfidf": 0.374027978546187
         },
         {
          "book": "the saints' guide to happiness",
          "term": "saints",
          "tfidf": 0.374027978546187
         },
         {
          "book": "the saints' guide to happiness",
          "term": "teresa",
          "tfidf": 0.374027978546187
         },
         {
          "book": "the saints' guide to happiness",
          "term": "happiness",
          "tfidf": 0.32692505182436016
         },
         {
          "book": "the secret of the caves (hardy boys, #7)",
          "term": "caves",
          "tfidf": 0.41514692961848876
         },
         {
          "book": "the secret of the caves (hardy boys, #7)",
          "term": "franklin w. dixon",
          "tfidf": 0.4084083876374845
         },
         {
          "book": "the secret of the caves (hardy boys, #7)",
          "term": "professor",
          "tfidf": 0.38484669753094886
         },
         {
          "book": "the secret of the caves (hardy boys, #7)",
          "term": "listening library",
          "tfidf": 0.36712219799659007
         },
         {
          "book": "the secret of the caves (hardy boys, #7)",
          "term": "joe",
          "tfidf": 0.36475870377954034
         },
         {
          "book": "the secret of the caves (hardy boys, #7)",
          "term": "frank",
          "tfidf": 0.35640691619703385
         },
         {
          "book": "the secret of the caves (hardy boys, #7)",
          "term": "mysterious",
          "tfidf": 0.34335859531597107
         },
         {
          "book": "the world holiday and time zone guide",
          "term": "chandler house press",
          "tfidf": 0.40294708239284277
         },
         {
          "book": "the world holiday and time zone guide",
          "term": "terri morrison",
          "tfidf": 0.40294708239284277
         },
         {
          "book": "the world holiday and time zone guide",
          "term": "calendars",
          "tfidf": 0.3938669134675989
         },
         {
          "book": "the world holiday and time zone guide",
          "term": "calendar",
          "tfidf": 0.38017516782143795
         },
         {
          "book": "the world holiday and time zone guide",
          "term": "traveler",
          "tfidf": 0.3747415014899991
         },
         {
          "book": "the world holiday and time zone guide",
          "term": "trading",
          "tfidf": 0.34406898034227634
         },
         {
          "book": "the world holiday and time zone guide",
          "term": "holidays",
          "tfidf": 0.34174308721155844
         },
         {
          "book": "too many cooks (nero wolfe, #5)",
          "term": "wolfes",
          "tfidf": 0.4210776279787187
         },
         {
          "book": "too many cooks (nero wolfe, #5)",
          "term": "crimeline",
          "tfidf": 0.3923354071262796
         },
         {
          "book": "too many cooks (nero wolfe, #5)",
          "term": "chefs",
          "tfidf": 0.3815268724929775
         },
         {
          "book": "too many cooks (nero wolfe, #5)",
          "term": "wolfe",
          "tfidf": 0.3671853347277604
         },
         {
          "book": "too many cooks (nero wolfe, #5)",
          "term": "rex stout",
          "tfidf": 0.3637968549945573
         },
         {
          "book": "too many cooks (nero wolfe, #5)",
          "term": "meal",
          "tfidf": 0.3606422558336993
         },
         {
          "book": "too many cooks (nero wolfe, #5)",
          "term": "cooks",
          "tfidf": 0.35491935233333205
         },
         {
          "book": "toy story sketchbook (the sketchbook series)",
          "term": "pixar",
          "tfidf": 0.41736420302037425
         },
         {
          "book": "toy story sketchbook (the sketchbook series)",
          "term": "sketchbook",
          "tfidf": 0.3949147101432447
         },
         {
          "book": "toy story sketchbook (the sketchbook series)",
          "term": "walt disney company",
          "tfidf": 0.37709554518183974
         },
         {
          "book": "toy story sketchbook (the sketchbook series)",
          "term": "animation",
          "tfidf": 0.37159494193192855
         },
         {
          "book": "toy story sketchbook (the sketchbook series)",
          "term": "applewood books",
          "tfidf": 0.3667068568653402
         },
         {
          "book": "toy story sketchbook (the sketchbook series)",
          "term": "toy",
          "tfidf": 0.3644526464392686
         },
         {
          "book": "toy story sketchbook (the sketchbook series)",
          "term": "disney",
          "tfidf": 0.34966554350638973
         },
         {
          "book": "unlocking the secrets of your childhood memories",
          "term": "experience",
          "tfidf": 0.41037625594215127
         },
         {
          "book": "unlocking the secrets of your childhood memories",
          "term": "brains",
          "tfidf": 0.405127664557926
         },
         {
          "book": "unlocking the secrets of your childhood memories",
          "term": "computer",
          "tfidf": 0.38874128852358336
         },
         {
          "book": "unlocking the secrets of your childhood memories",
          "term": "thomas nelson publishers",
          "tfidf": 0.376787036870175
         },
         {
          "book": "unlocking the secrets of your childhood memories",
          "term": "kevin leman",
          "tfidf": 0.36737078195494477
         },
         {
          "book": "unlocking the secrets of your childhood memories",
          "term": "birth",
          "tfidf": 0.3486008686868844
         },
         {
          "book": "unlocking the secrets of your childhood memories",
          "term": "memories",
          "tfidf": 0.34335227730265905
         },
         {
          "book": "virginia and maryland (fodor's virginia & maryland)",
          "term": "fodor's travel publications inc.",
          "tfidf": 0.41403483690761034
         },
         {
          "book": "virginia and maryland (fodor's virginia & maryland)",
          "term": "fodor's travel publications inc.,u.s.",
          "tfidf": 0.4028975310109585
         },
         {
          "book": "virginia and maryland (fodor's virginia & maryland)",
          "term": "hotels",
          "tfidf": 0.3866013581646585
         },
         {
          "book": "virginia and maryland (fodor's virginia & maryland)",
          "term": "jefferson",
          "tfidf": 0.37739956606087627
         },
         {
          "book": "virginia and maryland (fodor's virginia & maryland)",
          "term": "attractions",
          "tfidf": 0.35762180792059356
         },
         {
          "book": "virginia and maryland (fodor's virginia & maryland)",
          "term": "restaurant",
          "tfidf": 0.3510443940829081
         },
         {
          "book": "virginia and maryland (fodor's virginia & maryland)",
          "term": "restaurants",
          "tfidf": 0.3510443940829081
         },
         {
          "book": "white lies (arcane society, #2)",
          "term": "salter",
          "tfidf": 0.4120448468812856
         },
         {
          "book": "white lies (arcane society, #2)",
          "term": "lies",
          "tfidf": 0.39517311960888235
         },
         {
          "book": "white lies (arcane society, #2)",
          "term": "deception",
          "tfidf": 0.38320243860451
         },
         {
          "book": "white lies (arcane society, #2)",
          "term": "jayne ann krentz",
          "tfidf": 0.38320243860451
         },
         {
          "book": "white lies (arcane society, #2)",
          "term": "clare",
          "tfidf": 0.3783013923364791
         },
         {
          "book": "white lies (arcane society, #2)",
          "term": "piatkus books",
          "tfidf": 0.3599163783182601
         },
         {
          "book": "white lies (arcane society, #2)",
          "term": "psychic",
          "tfidf": 0.3282031215068251
         }
        ]
       },
       "layer": [
        {
         "encoding": {
          "color": {
           "field": "tfidf",
           "scale": {
            "scheme": "redpurple"
           },
           "type": "quantitative"
          },
          "x": {
           "field": "rank",
           "type": "ordinal"
          },
          "y": {
           "field": "book",
           "type": "nominal"
          }
         },
         "mark": {
          "size": 5,
          "type": "rect"
         },
         "transform": [
          {
           "groupby": [
            "book"
           ],
           "sort": [
            {
             "field": "tfidf",
             "order": "descending"
            }
           ],
           "window": [
            {
             "as": "rank",
             "field": "",
             "op": "dense_rank"
            }
           ]
          }
         ]
        },
        {
         "encoding": {
          "color": {
           "condition": {
            "test": "(datum.tfidf >= 0.23)",
            "value": "white"
           },
           "value": "black"
          },
          "text": {
           "field": "term",
           "type": "nominal"
          },
          "x": {
           "field": "rank",
           "type": "ordinal"
          },
          "y": {
           "field": "book",
           "type": "nominal"
          }
         },
         "mark": {
          "align": "center",
          "baseline": "middle",
          "lineBreak": "",
          "type": "text"
         },
         "transform": [
          {
           "groupby": [
            "book"
           ],
           "sort": [
            {
             "field": "tfidf",
             "order": "descending"
            }
           ],
           "window": [
            {
             "as": "rank",
             "field": "",
             "op": "dense_rank"
            }
           ]
          }
         ]
        }
       ],
       "width": 800
      },
      "text/plain": [
       "<VegaLite 4 object>\n",
       "\n",
       "If you see this message, it means the renderer has not been properly enabled\n",
       "for the frontend that you are using. For more information, see\n",
       "https://altair-viz.github.io/user_guide/troubleshooting.html\n"
      ]
     },
     "execution_count": 13,
     "metadata": {},
     "output_type": "execute_result"
    }
   ],
   "source": [
    "import altair as alt\n",
    "alt.renderers.enable('mimetype')\n",
    "grid = alt.Chart(tfidf_vec).encode(\n",
    "    x = 'rank:O',\n",
    "    y = 'book:N'\n",
    ").transform_window(\n",
    "    rank = \"dense_rank()\",\n",
    "    sort = [alt.SortField(\"tfidf\", order=\"descending\")],\n",
    "    groupby = [\"book\"],\n",
    ")\n",
    "heatmap = grid.mark_rect(size=5).encode(\n",
    "    alt.Color('tfidf:Q', scale=alt.Scale(scheme='redpurple'))\n",
    ")\n",
    "text = grid.mark_text(align='center', baseline='middle', lineBreak='').encode(\n",
    "    text = 'term:N',\n",
    "    color = alt.condition(alt.datum.tfidf >= 0.23, alt.value('white'), alt.value('black'))\n",
    ")\n",
    "(heatmap+text).properties(width = 800)"
   ]
  },
  {
   "cell_type": "markdown",
   "id": "a5459cfe-67f7-4e78-9035-19bb2e852625",
   "metadata": {},
   "source": [
    "---\n",
    "### Cosine Similarity between books vector representation"
   ]
  },
  {
   "cell_type": "code",
   "execution_count": 14,
   "id": "dd262636-e4ce-49a8-9a25-92ca88a62e57",
   "metadata": {},
   "outputs": [],
   "source": [
    "from sklearn.metrics.pairwise import cosine_similarity\n",
    "book_cosine_sim = cosine_similarity(tfidf_encoding, tfidf_encoding)"
   ]
  },
  {
   "cell_type": "code",
   "execution_count": 15,
   "id": "5b4dea6f-9426-46b7-88a9-c533cc0a41f0",
   "metadata": {},
   "outputs": [
    {
     "data": {
      "text/plain": [
       "array([[1., 0., 0., ..., 0., 0., 0.],\n",
       "       [0., 1., 0., ..., 0., 0., 0.],\n",
       "       [0., 0., 1., ..., 0., 0., 0.],\n",
       "       ...,\n",
       "       [0., 0., 0., ..., 1., 0., 0.],\n",
       "       [0., 0., 0., ..., 0., 1., 0.],\n",
       "       [0., 0., 0., ..., 0., 0., 1.]])"
      ]
     },
     "execution_count": 15,
     "metadata": {},
     "output_type": "execute_result"
    }
   ],
   "source": [
    "# Preview Similarity Matrix\n",
    "book_cosine_sim"
   ]
  },
  {
   "cell_type": "code",
   "execution_count": 16,
   "id": "4ad73b3e-29f4-4967-8067-c1ee78242acb",
   "metadata": {},
   "outputs": [
    {
     "data": {
      "image/png": "[encoded data removed]",
      "text/plain": [
       "<Figure size 480x480 with 1 Axes>"
      ]
     },
     "metadata": {},
     "output_type": "display_data"
    }
   ],
   "source": [
    "# Vidualize similarity between books\n",
    "import matplotlib.pyplot as plt\n",
    "\n",
    "plt.figure(figsize=(6, 6), dpi=80)\n",
    "plt.spy(book_cosine_sim, precision = 0.1, markersize = 0.04)\n",
    "plt.tight_layout()\n",
    "plt.show()\n"
   ]
  },
  {
   "cell_type": "markdown",
   "id": "6fa19c9b-539f-43eb-850d-8675f3ef3f27",
   "metadata": {},
   "source": [
    "---\n",
    "### Recommendation\n",
    "- Given a book name, find top n similar books based on cosine similarity score.\n",
    "1) Series Information\n",
    "2) Other Books In Numbered Series\n",
    "3) Theme\n",
    "4) Author"
   ]
  },
  {
   "cell_type": "code",
   "execution_count": 17,
   "id": "204166ab-9586-4837-abf8-d590cfc3e496",
   "metadata": {},
   "outputs": [],
   "source": [
    "books = pd.Series(model_data['Name'])\n",
    "\n",
    "def recommend_books_similar_to(book_name, n=5, cosine_sim_mat=book_cosine_sim):\n",
    "    # get index of the imput book\n",
    "    input_idx = books[books == book_name].index[0]   \n",
    "    # Find top n similar books with decreasing order of similarity score\n",
    "    top_n_books_idx = list(pd.Series(cosine_sim_mat[input_idx]).sort_values(ascending = False).iloc[1:n+1].index)\n",
    "    # [1:6] to exclude 0 (index 0 is the input movie itself)\n",
    "    \n",
    "    books_list = list(books)\n",
    "    recommended_books = [books[i] for i in top_n_books_idx]\n",
    "        \n",
    "    return recommended_books"
   ]
  },
  {
   "cell_type": "code",
   "execution_count": 18,
   "id": "a3711ced-7743-4204-ae17-bbe3c4123a9e",
   "metadata": {},
   "outputs": [
    {
     "name": "stdout",
     "output_type": "stream",
     "text": [
      "\u001b[1mRecommendation (Series Information) based on the read: The Eastland Disaster (Images of America: Illinois)\u001b[0m\n"
     ]
    },
    {
     "data": {
      "text/plain": [
       "['forgotten chicago (images of america: illinois)',\n",
       " 'mount carmel and queen of heaven cemeteries (images of america: illinois)',\n",
       " \"chicago's southeast side (images of america: illinois)\",\n",
       " 'st. charles: culture and leisure in an all-american town (images of america: illinois)',\n",
       " 'the great fire of london 1666 (all about...)']"
      ]
     },
     "metadata": {},
     "output_type": "display_data"
    },
    {
     "name": "stdout",
     "output_type": "stream",
     "text": [
      "\n",
      "\u001b[1mRecommendation (Numbered Series) based on the read: The Majolica Murders (Antique Lover, #5)\u001b[0m\n"
     ]
    },
    {
     "data": {
      "text/plain": [
       "['four on the floor (antique lover, #4)',\n",
       " 'caught dead',\n",
       " 'the weedless widow (antique lover, #2)',\n",
       " 'the marriage casket (antique lover, #3)',\n",
       " 'how to build outdoor structures']"
      ]
     },
     "metadata": {},
     "output_type": "display_data"
    },
    {
     "name": "stdout",
     "output_type": "stream",
     "text": [
      "\n",
      "\u001b[1mRecommendation (Theme: Programming) based on the read: The Practice of Programming (Addison-Wesley Professional Computing Series)\u001b[0m\n"
     ]
    },
    {
     "data": {
      "text/plain": [
       "['unix for the mainframer: the essential reference for commands, conversions, tcp/ip',\n",
       " 'smalltalk with style',\n",
       " 'the c++ programming language',\n",
       " 'sams teach yourself beginning programming in 24 hours',\n",
       " 'data structures & other objects using java']"
      ]
     },
     "metadata": {},
     "output_type": "display_data"
    },
    {
     "name": "stdout",
     "output_type": "stream",
     "text": [
      "\n",
      "\u001b[1mRecommendation (Author: Dean Koontz) based on the read: Cold Fire\u001b[0m\n"
     ]
    },
    {
     "data": {
      "text/plain": [
       "['the big island',\n",
       " 'papa jack: jack johnson and the era of white hopes',\n",
       " 'darkfall',\n",
       " 'keeping watch: heart of the night\\\\accidental bodyguard',\n",
       " \"a mother's gift\"]"
      ]
     },
     "metadata": {},
     "output_type": "display_data"
    }
   ],
   "source": [
    "# Recommendations with series information\n",
    "print(\"\\033[1m{}\\033[0m\".format(\"Recommendation (Series Information) based on the read: The Eastland Disaster (Images of America: Illinois)\"))\n",
    "display(recommend_books_similar_to(\"the eastland disaster (images of america: illinois)\", 5))\n",
    "\n",
    "# Recommendations with series information numbered\n",
    "print(\"\\n\\033[1m{}\\033[0m\".format(\"Recommendation (Numbered Series) based on the read: The Majolica Murders (Antique Lover, #5)\"))\n",
    "display(recommend_books_similar_to(\"the majolica murders (antique lover, #5)\", 5))\n",
    "\n",
    "print(\"\\n\\033[1m{}\\033[0m\".format(\"Recommendation (Theme: Programming) based on the read: The Practice of Programming (Addison-Wesley Professional Computing Series)\"))\n",
    "display(recommend_books_similar_to('the practice of programming (addison-wesley professional computing series)', 5))\n",
    "\n",
    "print(\"\\n\\033[1m{}\\033[0m\".format(\"Recommendation (Author: Dean Koontz) based on the read: Cold Fire\"))\n",
    "display(recommend_books_similar_to(\"cold fire\",5))"
   ]
  }
 ],
 "metadata": {
  "kernelspec": {
   "display_name": "Python 3 (ipykernel)",
   "language": "python",
   "name": "python3"
  },
  "language_info": {
   "codemirror_mode": {
    "name": "ipython",
    "version": 3
   },
   "file_extension": ".py",
   "mimetype": "text/x-python",
   "name": "python",
   "nbconvert_exporter": "python",
   "pygments_lexer": "ipython3",
   "version": "3.9.13"
  }
 },
 "nbformat": 4,
 "nbformat_minor": 5
}
